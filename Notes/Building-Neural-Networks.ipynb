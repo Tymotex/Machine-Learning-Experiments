{
 "cells": [
  {
   "cell_type": "markdown",
   "metadata": {},
   "source": [
    "### Common steps for pre-processing a dataset:\n",
    "1. Figure out the dimensions and shapes of the problem (m_train, m_test, num_px, ...)\n",
    "2. Reshape the datasets such that each example is now a vector of size (num_px \\* num_px \\* 3, 1)\n",
    "3. Standardise the data. For instance, a common strategy is to 'center and standardise' the dataset by getting the average $\\mu$ of an array's values, subtracting that average from each element, then dividing all elements by the standard deviation $\\sigma$ of the whole array"
   ]
  },
  {
   "cell_type": "markdown",
   "metadata": {},
   "source": [
    "### Building the network:\n",
    "1. Define the network structure &mdash; Eg. number of input features, number of hidden layers, number of nodes for hidden layers, etc. \n",
    "2. Initialize the model's parameters &mdash\n",
    "3. Loop:\n",
    "    - Calculate current loss (forward propagation)\n",
    "    - Calculate current gradient (backward propagation)\n",
    "    - Update parameters (gradient descent)\n",
    "\n",
    "You often build 1-3 separately and integrate them into one function we call `model()`."
   ]
  },
  {
   "cell_type": "markdown",
   "metadata": {},
   "source": []
  },
  {
   "cell_type": "markdown",
   "metadata": {},
   "source": [
    "### Resources:\n",
    "- <a href=\"https://towardsdatascience.com/computer-vision-101-working-with-color-images-in-python-7b57381a8a54\">Image preprocessing</a>"
   ]
  }
 ],
 "metadata": {
  "kernelspec": {
   "display_name": "Python 3",
   "language": "python",
   "name": "python3"
  },
  "language_info": {
   "codemirror_mode": {
    "name": "ipython",
    "version": 3
   },
   "file_extension": ".py",
   "mimetype": "text/x-python",
   "name": "python",
   "nbconvert_exporter": "python",
   "pygments_lexer": "ipython3",
   "version": "3.8.3"
  }
 },
 "nbformat": 4,
 "nbformat_minor": 4
}
