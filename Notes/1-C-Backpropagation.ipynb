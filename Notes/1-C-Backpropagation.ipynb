{
 "cells": [
  {
   "cell_type": "markdown",
   "metadata": {},
   "source": [
    "# Intro to Backpropagation"
   ]
  },
  {
   "cell_type": "markdown",
   "metadata": {},
   "source": [
    "### Types of Learning\n",
    "\n",
    "- Supervised learning — the training set consists of inputs and the expected output\n",
    "    - A dataset is often partitioned into a <em>training set</em> and a <em>testing set</em>. The testing set is used to assess the model's prediction accuracy \n",
    "- Unsupervised learning — the training set only contains input and the learning model is expected to find structure in these inputs\n",
    "- Reinforcement learning — the learning model aims to maximise a reward signal \n"
   ]
  },
  {
   "attachments": {},
   "cell_type": "markdown",
   "metadata": {},
   "source": [
    "## Curve Fitting\n",
    "\n",
    "### Ockham's Razor\n",
    "Asserts that \"the most likely hypothesis is the simplest one consistent with the data\"\n",
    "\n",
    "\n",
    "<img src=\"images/ockham's-razor.png\" width=\"50%\">\n",
    "\n",
    "\n",
    " \n",
    "\n",
    "\n",
    "Overfitting is when the learning model is too fine-tuned to the noise rather than the true signal.\n",
    "\n",
    "\n",
    "\n"
   ]
  },
  {
   "cell_type": "markdown",
   "metadata": {},
   "source": [
    "### Training\n",
    "Learning is about adjusting weights to achieve a configuration that minimises the <em>error function</em>. Mathematically, it can thought of as a *local search for the minimum in the weight space*\n",
    "\n",
    "Example error function: $E=\\frac{1}{2}\\sum_{i} (z_i-t_i)^2$, where $z_i$ is a particular output prediction and $t_i$ is the expected value. Note the $\\frac{1}{2}$ is chosen so that the coefficient is conveniently canceled when we differentiate the error function.\n",
    "\n"
   ]
  },
  {
   "cell_type": "markdown",
   "metadata": {},
   "source": [
    "### Continuous Activation Functions\n",
    "\n",
    "A requirement for backpropagation in multi-layer perceptrons is a differentiable activation function, since backpropagation uses gradient descent to adjust weights. Since the Heaviside step function's derivative has a value of $0$ everywhere, gradient descent can't make progress in updating the weights, so one important transition beyond the perceptron model is the introduction of continuous activation functions.\n",
    "\n",
    "A good set of alternative functions to the step function are <em>sigmoid</em> functions.\n",
    "\n",
    "- Logistic sigmoid: $g(s)=\\frac{1}{1+e^{-s}}$\n",
    "    - In stats, *logistic regression* is used to model the probability of a binary event (eg. alive/dead, cat/non-cat, etc.). Like all regression analyses, logistic regression is a form of predictive analysis\n",
    "- Hyperbolic tan: $g(s)=tanh(s)=\\frac{e^s-e^{-s}}{e^s+e^{-s}}=2(\\frac{1}{1+e^{-2}}) - 1$\n",
    "    - $tanh$ is just the logistic sigmoid function doubled and then shifted down 1 unit vertically\n",
    "\n",
    "\n",
    "\n"
   ]
  },
  {
   "cell_type": "code",
   "execution_count": 36,
   "metadata": {
    "scrolled": true
   },
   "outputs": [
    {
     "data": {
      "image/png": "[encoded data removed]",
      "text/plain": [
       "<Figure size 432x288 with 2 Axes>"
      ]
     },
     "metadata": {
      "needs_background": "light"
     },
     "output_type": "display_data"
    }
   ],
   "source": [
    "import numpy as np\n",
    "import matplotlib.pyplot as plt\n",
    "\n",
    "fig = plt.figure()\n",
    "x = np.linspace(-10, 10, 100)\n",
    "y = 1 / (1 + np.exp(-x))\n",
    "\n",
    "ax = fig.add_subplot(1, 2, 1)\n",
    "ax.set_title('Logistic Sigmoid')\n",
    "ax.plot(x, y)\n",
    "ax.spines['left'].set_position('zero')\n",
    "ax.spines['right'].set_color('none')\n",
    "ax.spines['bottom'].set_position('zero')\n",
    "ax.spines['top'].set_color('none')\n",
    "ax.grid()\n",
    "\n",
    "# remove the ticks from the top and right edges\n",
    "ax.xaxis.set_ticks_position('bottom')\n",
    "ax.yaxis.set_ticks_position('left')\n",
    "\n",
    "x = np.linspace(-5, 5, 100)\n",
    "y = np.tanh(x)\n",
    "\n",
    "ax = fig.add_subplot(1, 2, 2)\n",
    "ax.set_title('Hyperbolic Tan')\n",
    "ax.plot(x, y)\n",
    "ax.spines['left'].set_position('zero')\n",
    "ax.spines['right'].set_color('none')\n",
    "ax.spines['bottom'].set_position('zero')\n",
    "ax.spines['top'].set_color('none')\n",
    "ax.grid()\n",
    "\n",
    "# remove the ticks from the top and right edges\n",
    "ax.xaxis.set_ticks_position('bottom')\n",
    "ax.yaxis.set_ticks_position('left')\n",
    "\n",
    "plt.tight_layout()\n",
    "\n"
   ]
  },
  {
   "cell_type": "markdown",
   "metadata": {},
   "source": [
    "### Preprocessing\n",
    "\n",
    "- Input values often need to be normalised to values between 0 and 1. Eg. if one input $x_i$ is far larger than another input $x_j$, then $x_i$ would be have disproportionately more influence in backpropagation than $x_j$"
   ]
  },
  {
   "cell_type": "markdown",
   "metadata": {},
   "source": [
    "### Gradient Descent:\n",
    "\n",
    " \n"
   ]
  },
  {
   "cell_type": "markdown",
   "metadata": {},
   "source": [
    "## Backpropagation\n",
    "\n",
    "Backpropagation is a gradient computing technique. the process of computing derivatives in a \n",
    "\n",
    "- This is just a simple implementation of chain rule \n",
    "\n",
    "\n",
    "\n",
    "Gradient descent is the process of adjusting network parameters to minimise the loss function, using the derivatives calculated in backpropagation.\n",
    "\n",
    "- Stochastic gradient descent — a *first order optimiser*. TODO\n",
    "\n",
    "\n",
    "The __*loss function*__ computes the error for a single traning example. \n",
    "\n",
    "- Mean squared error: $E(z, t)=\\frac{1}{2}(z-t)^2$, where $z$ is the predicted value and $t$ is the target/expected value\n",
    "- Cross-entropy: $E(z, t)=-(t\\log(z)+(1-t)\\log(1-z))$\n",
    "\n",
    "\n",
    "\n",
    "The __*cost function*__ computes the average of the loss function values across the entire training set: $\\frac{1}{m}\\sum_{i=1}^m E(z^{(i)}, t^{(i)})$, where $m$ is the total number of training examples and $z^{(i)}$ and $t^{(i)}$ are the prediction and target value for the $i^{\\text{th}}$ training sample respectively.\n",
    "\n",
    "\n"
   ]
  },
  {
   "cell_type": "markdown",
   "metadata": {},
   "source": []
  },
  {
   "cell_type": "markdown",
   "metadata": {},
   "source": []
  },
  {
   "cell_type": "markdown",
   "metadata": {},
   "source": []
  },
  {
   "cell_type": "markdown",
   "metadata": {},
   "source": [
    "### Resources\n",
    "- Backpropagation:\n",
    "    - https://towardsdatascience.com/the-heart-of-artificial-neural-networks-26627e8c03ba\n",
    "- Gradient descent:\n",
    "    - https://towardsdatascience.com/epoch-vs-iterations-vs-batch-size-4dfb9c7ce9c9"
   ]
  },
  {
   "cell_type": "code",
   "execution_count": null,
   "metadata": {},
   "outputs": [],
   "source": []
  },
  {
   "cell_type": "code",
   "execution_count": null,
   "metadata": {},
   "outputs": [],
   "source": []
  },
  {
   "cell_type": "code",
   "execution_count": null,
   "metadata": {},
   "outputs": [],
   "source": []
  },
  {
   "cell_type": "code",
   "execution_count": null,
   "metadata": {},
   "outputs": [],
   "source": []
  },
  {
   "cell_type": "code",
   "execution_count": null,
   "metadata": {},
   "outputs": [],
   "source": []
  },
  {
   "cell_type": "code",
   "execution_count": null,
   "metadata": {},
   "outputs": [],
   "source": []
  },
  {
   "cell_type": "code",
   "execution_count": 34,
   "metadata": {},
   "outputs": [
    {
     "data": {
      "text/html": [
       "<script>\n",
       "code_show=true; \n",
       "function code_toggle() {\n",
       " if (code_show){\n",
       " $('div.input').hide();\n",
       " } else {\n",
       " $('div.input').show();\n",
       " }\n",
       " code_show = !code_show\n",
       "} \n",
       "$( document ).ready(code_toggle);\n",
       "</script>\n",
       "<form action=\"javascript:code_toggle()\"><input type=\"submit\" value=\"Click to show/hide raw code\"></form>"
      ],
      "text/plain": [
       "<IPython.core.display.HTML object>"
      ]
     },
     "execution_count": 34,
     "metadata": {},
     "output_type": "execute_result"
    }
   ],
   "source": [
    "from IPython.display import HTML\n",
    "\n",
    "HTML('''<script>\n",
    "code_show=true; \n",
    "function code_toggle() {\n",
    " if (code_show){\n",
    " $('div.input').hide();\n",
    " } else {\n",
    " $('div.input').show();\n",
    " }\n",
    " code_show = !code_show\n",
    "} \n",
    "$( document ).ready(code_toggle);\n",
    "</script>\n",
    "<form action=\"javascript:code_toggle()\"><input type=\"submit\" value=\"Click to show/hide raw code\"></form>''')"
   ]
  }
 ],
 "metadata": {
  "kernelspec": {
   "display_name": "Python 3",
   "language": "python",
   "name": "python3"
  },
  "language_info": {
   "codemirror_mode": {
    "name": "ipython",
    "version": 3
   },
   "file_extension": ".py",
   "mimetype": "text/x-python",
   "name": "python",
   "nbconvert_exporter": "python",
   "pygments_lexer": "ipython3",
   "version": "3.8.3"
  }
 },
 "nbformat": 4,
 "nbformat_minor": 4
}
