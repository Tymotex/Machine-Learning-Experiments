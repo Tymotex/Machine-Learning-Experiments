{
 "cells": [
  {
   "attachments": {},
   "cell_type": "markdown",
   "metadata": {},
   "source": [
    "# Neuroanatomy Basics:\n",
    "\n",
    "<img src=\"images/brain-anatomy-whole.png\" width=\"80%\">\n"
   ]
  },
  {
   "cell_type": "markdown",
   "metadata": {},
   "source": [
    "- Cerebral Cortex — consists of the frontal lobe, parietal lobe, temporal lobe, occipital lobe. Responsible for thought, reasoning, coordinated movement, language, visual processing\n",
    "    - \"Cortex\" is latin for \"bark\"\n",
    "- Cerebellum — responsible for balance\n",
    "    - \"Cerebellum\" is latin for \"little brain\"\n",
    "- Thalamus — responsible for relaying sensory information to or from the cerebral cortex\n",
    "- Hypothalamus — responsible for regulating body temperature, emotions, hunger, thirst and circadian rhythms"
   ]
  },
  {
   "attachments": {},
   "cell_type": "markdown",
   "metadata": {},
   "source": [
    "### Limbic System:\n",
    "<img src=\"images/brain-anatomy-limbic.png\" width=\"60%\">\n"
   ]
  },
  {
   "cell_type": "markdown",
   "metadata": {},
   "source": [
    "Limbic system — responsible for emotions and memory, primarily\n",
    "- Amygdala — responsible for lower-level emotional responses such as fear or aggression\n",
    "- Hippocampus — reponsible for 'transferring' short-term memory to long-term memory\n",
    "- Mammillary bodies — responsible for recall memory\n",
    "- Cingulate cortex — responsible for linking motivational outcomes to behaviour, for example\n",
    "- Basal Ganglia — responsible for habit formation"
   ]
  },
  {
   "attachments": {},
   "cell_type": "markdown",
   "metadata": {},
   "source": [
    "### Neurons:\n",
    "\n",
    "<img src=\"images/brain-anatomy-neurons.png\" width=\"60%\">\n"
   ]
  },
  {
   "cell_type": "markdown",
   "metadata": {},
   "source": [
    "Neurons are cells comprising the nervous system which can propagate signals through an electrochemical process.\n",
    "- The brain consists of ~100 billion neurons which an average of 10000 synapses for each neuron\n",
    "- Dendrites — receives input signals from other neurons\n",
    "- Axons — outputs a signal to the dendrites of other neurons"
   ]
  },
  {
   "attachments": {},
   "cell_type": "markdown",
   "metadata": {},
   "source": [
    "#### Synapse\n",
    "\n",
    "- Synapse — an electrochemical junction\n",
    "<img src=\"images/brain-anatomy-neuron-synapse.png\" width=\"50%\">\n",
    "\n"
   ]
  },
  {
   "attachments": {},
   "cell_type": "markdown",
   "metadata": {},
   "source": [
    "- Synaptic vesicle — a 'capsule' of neurotransmitters that are released across the synaptic cleft when the vesicle fuses with the axon terminal's membrane\n",
    "<img src=\"images/brain-anatomy-synaptic-vesicle.png\" width=\"30%\">\n"
   ]
  }
 ],
 "metadata": {
  "kernelspec": {
   "display_name": "Python 3",
   "language": "python",
   "name": "python3"
  },
  "language_info": {
   "codemirror_mode": {
    "name": "ipython",
    "version": 3
   },
   "file_extension": ".py",
   "mimetype": "text/x-python",
   "name": "python",
   "nbconvert_exporter": "python",
   "pygments_lexer": "ipython3",
   "version": "3.8.3"
  }
 },
 "nbformat": 4,
 "nbformat_minor": 4
}
