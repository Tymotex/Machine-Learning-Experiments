{
 "cells": [
  {
   "cell_type": "markdown",
   "metadata": {},
   "source": [
    "# Python Semantics:\n",
    "A collection of lesser known Python features."
   ]
  },
  {
   "cell_type": "markdown",
   "metadata": {},
   "source": [
    "### List Slicing:\n",
    "Useful for extracting sublists from a list."
   ]
  },
  {
   "cell_type": "code",
   "execution_count": null,
   "metadata": {},
   "outputs": [],
   "source": [
    "a[start:stop]  # [start, stop)  -  inclusive start index, exclusive stop index\n",
    "a[start:]      # [start, ...]   -  inclusive start index to the end of the list\n",
    "a[:stop]       # [..., stop)    -  from the start of the list to the exclusive stop index\n",
    "a[:]           # a copy of the whole array\n",
    "\n",
    "a[start:stop:step]  # Optionally specify a step between elements to slice out"
   ]
  },
  {
   "cell_type": "markdown",
   "metadata": {},
   "source": [
    "#### Negative Indices:"
   ]
  },
  {
   "cell_type": "code",
   "execution_count": null,
   "metadata": {},
   "outputs": [],
   "source": [
    "a[-1]    # Last item\n",
    "a[-2:]   # Last two items \n",
    "a[:-2]   # Everything but the last two items\n",
    "\n",
    "a[::-1]  # Reversed list (a hacky alternative to the reverse() method)\n",
    "\n"
   ]
  },
  {
   "cell_type": "markdown",
   "metadata": {},
   "source": [
    "#### Extracting a column (not vanilla Python):"
   ]
  },
  {
   "cell_type": "code",
   "execution_count": null,
   "metadata": {},
   "outputs": [],
   "source": [
    "# Suppose we have this numpy array:\n",
    "array([[11, 12, 13, 14],\n",
    "       [21, 22, 23, 24],\n",
    "       [31, 32, 33, 34],\n",
    "       [41, 42, 43, 44],\n",
    "       [51, 52, 53, 54],\n",
    "       [61, 62, 63, 64],\n",
    "       [71, 72, 73, 74],\n",
    "       [81, 82, 83, 84],\n",
    "       [91, 92, 93, 94]])\n",
    "\n",
    "\n",
    "m[:,0]    # Gets us column 0: array([11, 21, 31, 41, 51, 61, 71, 81, 91])\n"
   ]
  },
  {
   "cell_type": "markdown",
   "metadata": {},
   "source": [
    "In general, $\\texttt{m[:,n]}$ slices out the $n^{th}$ column vector of the matrix $m$. Note: commas within the brackets $\\texttt{[ ]}$ are not part of vanilla Python syntax. Packages like numpy or pytorch implement the behaviour of the comma for their $\\text{__}\\texttt{getitem}\\text{__}$ function "
   ]
  },
  {
   "cell_type": "markdown",
   "metadata": {},
   "source": [
    "## Vectorisation:\n",
    "\n",
    "Vectorisation is the process of taking an algorithm which operates on a single value at a time and making it run simultaneous operations on multiple values at a time.\n",
    "- <a href=\"https://en.wikipedia.org/wiki/Array_programming\">Array programming</a> &mdash; the application of operations on an entire set of values at once \n",
    "- CPUs and GPUs have parallelisation instructions &mdash; also called SIMD instructions (single instruction, multiple data)."
   ]
  },
  {
   "cell_type": "code",
   "execution_count": 78,
   "metadata": {},
   "outputs": [
    {
     "name": "stdout",
     "output_type": "stream",
     "text": [
      "Vectorised time: 9.043 milliseconds\n",
      "\tAnswer: 2500545.36\n",
      "Non-vectorised time: 6140.246 milliseconds\n",
      "\tAnswer: 2500545.36\n"
     ]
    }
   ],
   "source": [
    "import numpy as np\n",
    "import time\n",
    "\n",
    "a = np.random.rand(10000000)\n",
    "b = np.random.rand(10000000)\n",
    "\n",
    "# ===== Vectorised dot product =====\n",
    "start = time.time()\n",
    "weighted_sum = np.dot(a, b)\n",
    "stop = time.time()\n",
    "\n",
    "print(\"Vectorised time: {} milliseconds\".format(round((stop - start) * 1000, 3)))\n",
    "print(\"\\tAnswer: {}\".format(round(weighted_sum, 2)))\n",
    "\n",
    "# ===== Non-vectorised dot product =====\n",
    "start = time.time()\n",
    "weighted_sum = 0\n",
    "for i in range(10000000):\n",
    "    weighted_sum += a[i] * b[i]\n",
    "stop = time.time()\n",
    "\n",
    "print(\"Non-vectorised time: {} milliseconds\".format(round((stop - start) * 1000, 3)))\n",
    "print(\"\\tAnswer: {}\".format(round(weighted_sum, 2)))\n"
   ]
  },
  {
   "cell_type": "markdown",
   "metadata": {},
   "source": [
    "<a href=\"https://numpy.org/doc/1.19/reference/routines.math.html\">Numpy mathematical functions</a>\n"
   ]
  },
  {
   "cell_type": "markdown",
   "metadata": {},
   "source": [
    "### Vector Operations:"
   ]
  },
  {
   "cell_type": "markdown",
   "metadata": {},
   "source": [
    "#### Elementwise operations:\n",
    "Any 2 vectors can be directly added, subtracted, multiplied, divided with +, -, \\*, /."
   ]
  },
  {
   "cell_type": "code",
   "execution_count": 94,
   "metadata": {},
   "outputs": [
    {
     "name": "stdout",
     "output_type": "stream",
     "text": [
      "a:     [1 2 3 4 5]\n",
      "b:     [3 3 3 3 3]\n",
      "a + b: [4 5 6 7 8]\n",
      "a - b: [-2 -1  0  1  2]\n",
      "a * b: [ 3  6  9 12 15]\n",
      "a / b: [0.33333333 0.66666667 1.         1.33333333 1.66666667]\n"
     ]
    }
   ],
   "source": [
    "a = np.array([1, 2, 3, 4, 5])\n",
    "b = np.array([3, 3, 3, 3, 3])\n",
    "print(\"a:     {}\".format(a))\n",
    "print(\"b:     {}\".format(b))\n",
    "print(\"a + b: {}\".format(a + b))\n",
    "print(\"a - b: {}\".format(a - b))\n",
    "print(\"a * b: {}\".format(a * b))\n",
    "print(\"a / b: {}\".format(a / b))"
   ]
  },
  {
   "cell_type": "markdown",
   "metadata": {},
   "source": [
    "### Broadcasting:\n",
    "\n",
    "#### Scalar expansion:\n",
    "When a scalar is used in arithmetic operations with a vector, it is implicitly 'expanded' into a vector of the appropriate size. "
   ]
  },
  {
   "cell_type": "code",
   "execution_count": 85,
   "metadata": {},
   "outputs": [
    {
     "name": "stdout",
     "output_type": "stream",
     "text": [
      "[2 3 4 5 6]\n"
     ]
    }
   ],
   "source": [
    "a = np.array([1, 2, 3, 4, 5]) + 1\n",
    "print(a)"
   ]
  },
  {
   "cell_type": "markdown",
   "metadata": {},
   "source": [
    "#### Dimension expansion:\n",
    "\n",
    "When adding a vector to a matrix, numpy will attempt to broadcast them together. In the following example, the $1 \\times 3$ vector will be expanded to a $3 \\times 3$ matrix by duplicating the rows so that it can be directly added elementwise with the other $3 \\times 3$ matrix."
   ]
  },
  {
   "cell_type": "code",
   "execution_count": 101,
   "metadata": {},
   "outputs": [
    {
     "ename": "ValueError",
     "evalue": "operands could not be broadcast together with shapes (4,3) (2,3) ",
     "output_type": "error",
     "traceback": [
      "\u001b[0;31m---------------------------------------------------------------------------\u001b[0m",
      "\u001b[0;31mValueError\u001b[0m                                Traceback (most recent call last)",
      "\u001b[0;32m<ipython-input-101-a072efd32b39>\u001b[0m in \u001b[0;36m<module>\u001b[0;34m\u001b[0m\n\u001b[1;32m     12\u001b[0m ])\n\u001b[1;32m     13\u001b[0m \u001b[0;34m\u001b[0m\u001b[0m\n\u001b[0;32m---> 14\u001b[0;31m \u001b[0mprint\u001b[0m\u001b[0;34m(\u001b[0m\u001b[0ma\u001b[0m \u001b[0;34m+\u001b[0m \u001b[0mb\u001b[0m\u001b[0;34m)\u001b[0m\u001b[0;34m\u001b[0m\u001b[0;34m\u001b[0m\u001b[0m\n\u001b[0m",
      "\u001b[0;31mValueError\u001b[0m: operands could not be broadcast together with shapes (4,3) (2,3) "
     ]
    }
   ],
   "source": [
    "a = np.array([\n",
    "    [1, 2, 3],\n",
    "    [4, 5, 6],\n",
    "    [7, 8, 9]\n",
    "])\n",
    "\n",
    "b = np.array([\n",
    "    [100, 200, 300]\n",
    "])\n",
    "\n",
    "print(a + b)"
   ]
  },
  {
   "cell_type": "markdown",
   "metadata": {},
   "source": [
    "### Matrix Operations:"
   ]
  },
  {
   "cell_type": "code",
   "execution_count": 95,
   "metadata": {},
   "outputs": [
    {
     "name": "stdout",
     "output_type": "stream",
     "text": [
      "[ 59.  239.  155.4  76.9]\n",
      "[[0.94915254 0.         0.02831403 0.88426528]\n",
      " [0.02033898 0.43514644 0.33462033 0.10403121]\n",
      " [0.03050847 0.56485356 0.63706564 0.01170351]]\n"
     ]
    }
   ],
   "source": [
    "A = np.array([\n",
    "    [56,  0,   4.4, 68 ],\n",
    "    [1.2, 104, 52,  8  ],\n",
    "    [1.8, 135, 99,  0.9]\n",
    "])\n",
    "\n",
    "# Specifying axis=0 makes the operation work on each column\n",
    "# Having axis=1 makes the operation work on each row instead\n",
    "column_sums = np.sum(A, axis=0)\n",
    "print(column_sums)\n",
    "\n",
    "print(A / column_sums)"
   ]
  },
  {
   "cell_type": "code",
   "execution_count": null,
   "metadata": {},
   "outputs": [],
   "source": []
  }
 ],
 "metadata": {
  "kernelspec": {
   "display_name": "Python 3",
   "language": "python",
   "name": "python3"
  },
  "language_info": {
   "codemirror_mode": {
    "name": "ipython",
    "version": 3
   },
   "file_extension": ".py",
   "mimetype": "text/x-python",
   "name": "python",
   "nbconvert_exporter": "python",
   "pygments_lexer": "ipython3",
   "version": "3.8.3"
  }
 },
 "nbformat": 4,
 "nbformat_minor": 4
}
