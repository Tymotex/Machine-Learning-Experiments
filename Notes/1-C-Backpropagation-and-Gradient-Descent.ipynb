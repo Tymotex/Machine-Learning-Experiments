{
 "cells": [
  {
   "cell_type": "markdown",
   "metadata": {},
   "source": [
    "# Neural Network Learning and Backpropagation:"
   ]
  },
  {
   "cell_type": "markdown",
   "metadata": {},
   "source": [
    "### Ockham's Razor:\n",
    "\n",
    "Ockham's razor is a problem-solving principle that asserts that \"the most likely hypothesis is the simplest one consistent with the data\"\n",
    "\n",
    "<img src=\"images/ockham's-razor.png\" width=\"50%\">\n",
    "\n",
    "*Overfitting* is when the learning model is too fine-tuned to the noise rather than the true signal. In the third panel above, the network has learned a decision boundary that doesn't generalise to the true pattern presented by the dataset.\n"
   ]
  },
  {
   "cell_type": "markdown",
   "metadata": {},
   "source": [
    "### Training Neural Networks:\n",
    "In the context of neural networks, *learning* is the process of adjusting a network's weights to achieve a configuration that minimises the <em>error function</em>.\n",
    "\n",
    "#### Error Functions:\n",
    "An example *error function*, also called *loss function*, that can be used to quantify the incorrectness of a network's prediction is the *mean squared error function*.\n",
    "\n",
    "- *Mean squared error* &mdash; the sum of the squared difference between the network's predicted value $z_i$ and the expected value $t_i$ for all $i$ neurons in the output layer:\n",
    "$$\n",
    "    E(z_i, t_i)=\\frac{1}{2}\\sum_{i} (z_i-t_i)^2. \\tag{1}\n",
    "$$ \n",
    "Note the $\\frac{1}{2}$ is chosen so that the coefficient is conveniently canceled when we differentiate this error function with respect to a network weight.\n",
    "\n",
    "- *Cross-entropy loss* &mdash;  ... for all $i$ neurons in the output layer:\n",
    "$$\n",
    "    E(z_i, t_i)=-\\sum_{i}t_i\\log{(z_i)}. \\tag{2}\n",
    "$$\n",
    "Cross-entropy is a good error function for measuring the 'distance' between the vector of the output layer's predicted probabilities for each class and the expected label vector, which is 1-hot encoded.\n",
    "- Binary cross-entropy loss &mdash; a variation on regular cross-entropy loss \n",
    "- Categorical cross-entropy loss &mdash; also called *softmax loss*. It is just softmax followed by a cross-entropy loss\n"
   ]
  },
  {
   "cell_type": "markdown",
   "metadata": {},
   "source": [
    "The __*cost function*__ computes the average of the loss function values across the entire training set: $\\frac{1}{m}\\sum_{i=1}^m E(z^{(i)}, t^{(i)})$, where $m$ is the total number of training examples and $z^{(i)}$ and $t^{(i)}$ are the prediction and target value for the $i^{\\text{th}}$ training sample respectively."
   ]
  },
  {
   "cell_type": "markdown",
   "metadata": {},
   "source": [
    "#### Differentiable Activation Functions:\n",
    "\n",
    "A requirement for backpropagation in neural networks is a *differentiable activation function*, since backpropagation uses *gradient descent* to adjust weights. \n",
    "\n",
    "The Heaviside step function's derivative has a value of $0$ everywhere, so gradient descent can't make progress in updating the weights. One very important transition beyond the perceptron model is the introduction of continuous activation functions.\n",
    "\n",
    "Alternative differentiable activation functions:\n",
    "\n",
    "- Logistic sigmoid: $\\sigma(s) =\\frac{1}{1+e^{-s}}$\n",
    "    - Output values range: $[0, 1]$\n",
    "    - In statistics, *logistic regression* is used to model the probability of a binary event (eg. alive/dead, cat/non-cat, etc.). Like all regression analyses, logistic regression is a form of predictive analysis\n",
    "- Hyperbolic tan: $\\texttt{tanh}(s)=\\frac{e^s-e^{-s}}{e^s+e^{-s}}=2(\\frac{1}{1+e^{-s}}) - 1=2\\sigma(s)-1$\n",
    "    - Output values range: $[-1, 1]$\n",
    "    - $\\texttt{tanh}$ is just the logistic sigmoid function doubled and then shifted down 1 unit vertically\n",
    "- Rectified linear unit &mdash; \n",
    "$\\texttt{ReLU}(s) = \\begin{cases}\n",
    "x, & s > 0,\\\\\n",
    "0, & s \\leq 0. \n",
    "\\end{cases}$\n",
    "\n",
    "\n"
   ]
  },
  {
   "cell_type": "markdown",
   "metadata": {},
   "source": [
    "### Gradient Descent:\n",
    "\n",
    " \n"
   ]
  },
  {
   "cell_type": "markdown",
   "metadata": {},
   "source": [
    "*Gradient descent* is an *optimiser* algorithm that neural networks can use to update individual weights. It works by repeatedly application of the following update rule:\n",
    "$$\n",
    "    w_{jk} := w_{jk} - \\eta \\frac{\\partial E}{\\partial w_{jk}} \\tag{3}\n",
    "$$"
   ]
  },
  {
   "cell_type": "markdown",
   "metadata": {},
   "source": [
    "where the term $\\frac{\\partial E}{\\partial w_{jk}}$ is computed through *backpropagation*. The term $\\frac{\\partial E}{\\partial w_{jk}}$ can be thought of as a measurement of how much the error function $E$ changes when we make a very small change to $w_{jk}$.\n",
    "\n",
    "With every iteration of $(3)$, the weight $w_{jk}$ takes a 'step' downhill the *error landscape*. Eventually, the weight $w_{jk}$ will settle on a value that is a local minimum.\n",
    "\n",
    "A very large learning rate could cause the updated weight value to overstep the local minimum and spiral up the error landscape. A very low learning rate means the network converges on optimal weight values slower. "
   ]
  },
  {
   "cell_type": "markdown",
   "metadata": {},
   "source": [
    "<table>\n",
    "    <tr>\n",
    "        <td>            \n",
    "            <img src=\"images/gradient-descent-visualised.gif\" />\n",
    "        </td>\n",
    "        <td width=\"50%\">\n",
    "            <p style=\"text-align: left;\">\n",
    "                We want all weights to take on the global minimum value, but depending on the learning rate and what value the weight initially starts with, gradient descent may cause the weight to settle on a value corresponding to a suboptimal local minimum instead.\n",
    "            </p>\n",
    "            <img src=\"images/gradient-descent-minimas-visualised.gif\" />\n",
    "        </td>\n",
    "    <tr>\n",
    "</table>"
   ]
  },
  {
   "cell_type": "markdown",
   "metadata": {},
   "source": [
    "There are variations on gradient descent which introduce concepts like *momentum* and *acceleration*.\n",
    "\n",
    "There also exists many other optimisers such as *adagrad*, *adam*, *rms-prop*, *Nesterov accelerated gradient*, etc."
   ]
  },
  {
   "cell_type": "markdown",
   "metadata": {},
   "source": [
    "#### Momentum:\n",
    "With gradient descent + momentum, we're introducing a *momentum factor*, $\\delta w$, which retains a proportion of the previously computed gradient $\\frac{\\partial E}{\\partial w}$ for use in the current weight update:"
   ]
  },
  {
   "cell_type": "markdown",
   "metadata": {},
   "source": [
    "$$\n",
    "    \\begin{align}\n",
    "    \\delta w &:= \\alpha \\delta w - \\eta \\frac{\\partial E}{\\partial w}, \\\\\n",
    "    w &:= w + \\delta w.\n",
    "    \\end{align}\n",
    "$$"
   ]
  },
  {
   "cell_type": "markdown",
   "metadata": {},
   "source": [
    "## Backpropagation\n",
    "\n",
    "Backpropagation is an algorithm for computing the derivative of the error function $E$ with respect to individual network weights $w_{ij}$. It is just the systematic application of chain rule starting from the output layer, and passing intermediate results backwards so that earlier derivatives that depend on derivatives from later layers can be computed."
   ]
  },
  {
   "cell_type": "markdown",
   "metadata": {},
   "source": [
    "\n",
    "<hr>"
   ]
  },
  {
   "cell_type": "markdown",
   "metadata": {},
   "source": [
    "### Backpropagation From First Principles: "
   ]
  },
  {
   "cell_type": "markdown",
   "metadata": {},
   "source": [
    "\n",
    "<table>\n",
    "    <tr>\n",
    "        <td>\n",
    "            <p style=\"text-align: center;\">\n",
    "                Example neural network\n",
    "            </p>\n",
    "            <img src=\"images/backprop-network-template.png\" width=\"100%\">\n",
    "        </td>\n",
    "        <td>    \n",
    "            <p style=\"text-align: center;\">\n",
    "                Weight component $w_{jk}^{(l)}$\n",
    "            </p>        \n",
    "            <img src=\"images/backprop-network-template-wjk.png\" width=\"100%\">\n",
    "        </td>\n",
    "        <td> \n",
    "            <p style=\"text-align: center;\">\n",
    "                Weight vector $w_{j}^{(l)}$\n",
    "            </p> \n",
    "            <img src=\"images/backprop-network-template-wj.png\" width=\"100%\">\n",
    "        </td>\n",
    "    <tr>\n",
    "</table>\n"
   ]
  },
  {
   "cell_type": "markdown",
   "metadata": {},
   "source": [
    "#### Mathematical Notation:\n",
    "\n",
    "- $L$ &mdash; number of layers in the network\n",
    "    - $l$ &mdash; indexing variable for layers $1, 2, \\ldots, L-1, L$ \n",
    "    - $j$ &mdash; indexing variable for node $j$ in layer $l$\n",
    "    - $k$ &mdash; indexing variable for node $k$ in layer $l-1$\n",
    "    - $n$ &mdash; the number of nodes in layer $l$\n",
    "    - $m$ &mdash; the number of nodes in layer $l-1$\n",
    "- $y_j$ &mdash; the expected value of output node $j$ in the output layer\n",
    "- $E$ &mdash; error function for a single input\n",
    "- $w_{jk}^{(l)}$ &mdash; the specific weight that connects to node $j$ in layer $l$ from node $k$ in layer $l-1$\n",
    "- $w_{j}^{(l)}$ &mdash; the vector of all weights from layer $l-1$ towards node $j$ in layer $l$\n",
    "- $z_j^{(l)}$ &mdash; the weighted sum of inputs into node $j$ at layer $l$\n",
    "- $g^{(l)}$ &mdash; the activation function applied on the nodes of layer $l$ \n",
    "- $a_j^{(l)}$ &mdash; the activation value outputted by node $j$ at layer $l$ \n",
    "\n",
    "\n",
    "\n"
   ]
  },
  {
   "cell_type": "markdown",
   "metadata": {},
   "source": [
    "### Error Function as a Composition of Functions:"
   ]
  },
  {
   "cell_type": "markdown",
   "metadata": {},
   "source": [
    "Suppose we're using the mean squared error function, $(1)$, as our network's error function: \n",
    "$$E=\\frac{1}{2}\\sum_{j=0}^{n-1} (a_{j}^{(L)}-y_j)^2.$$\n",
    "\n",
    "The activation value $a_j^{(L)}$ is given by:\n",
    "$$\n",
    "    \\begin{align}\n",
    "    a_j^{(L)}&=g^{(L)}\\big( z_j^{(L)}\\big) \\\\\n",
    "    &= g^{(L)} \\big( \\sum_{k=0}^{m-1} w_{jk}^{(L)} \\cdot a_k^{(L-1)} \\big).\n",
    "    \\end{align}\n",
    "$$"
   ]
  },
  {
   "cell_type": "markdown",
   "metadata": {},
   "source": [
    "Now, the error function can be expressed as:\n",
    "$$\n",
    "    E=\\frac{1}{2}\\sum_{j=0}^{n-1} \\Bigg( \\underbrace{g^{(L)} \\big( \\sum_{k=0}^{m-1} w_{jk}^{(L)} \\cdot a_k^{(L-1)} \\big)}_{a_j^{(L)}}  -y_j\\Bigg)^2. \\tag{a}\n",
    "$$"
   ]
  },
  {
   "cell_type": "markdown",
   "metadata": {},
   "source": [
    "The main point is that we recognise that $(a)$ is just a function composition:\n",
    "$$\n",
    "    \\begin{align}\n",
    "    E&=\\sum_{j=0}^{n-1} E(a_{j}^{(L)}), \\tag{$E$ is a function of the activation value} \\\\ \n",
    "     &=\\sum_{j=0}^{n-1} E(a_{j}(z_{j}^{(L)})), \\tag{$a$ is a function of the weighted sum} \\\\ \n",
    "     &=\\sum_{j=0}^{n-1} E(a_{j}(z_{j}^{(L)}(w_j^{(L)}))). \\tag{$z$ is a function of the weights} \\\\ \n",
    "    \\end{align}\n",
    "$$"
   ]
  },
  {
   "cell_type": "markdown",
   "metadata": {},
   "source": [
    "### Backpropagation Algorithm Derivation:"
   ]
  },
  {
   "cell_type": "markdown",
   "metadata": {},
   "source": [
    "Gradient descent requires that we know what the value of $\\frac{\\partial E}{\\partial w_{jk}^{(l)}}$ is for all individual weight parameters $w_{jk}^{(l)}$ in the network. Let's focus on how to calculate the gradient of the error function with respect to one specific weight $w_{12}^{(L)}$, which is $\\frac{\\partial E}{\\partial w_{12}^{(L)}}$, for now.\n",
    "\n",
    "\n",
    "<img src=\"images/backprop-network-template-w12.png\" width=\"30%\">\n"
   ]
  },
  {
   "cell_type": "markdown",
   "metadata": {},
   "source": [
    "From the previous observation that the error function is a function composition of the activation function and the weighted sum function, we can use the chain rule to obtain $\\frac{\\partial E}{\\partial w_{12}^{(L)}}$:\n",
    "$$\n",
    "    \\frac{\\partial E}{\\partial w_{12}^{(L)}} = \\underbrace{\\frac{\\partial E}{\\partial a_{1}^{(L)}}}_{\\text{term 1}} \\cdot\n",
    "                                               \\underbrace{\\frac{\\partial a_{1}^{(L)}}{\\partial z_{1}^{(L)}}}_{\\text{term 2}} \\cdot\n",
    "                                               \\underbrace{\\frac{\\partial z_{1}^{(L)}}{\\partial w_{12}^{(L)}}}_{\\text{term 3}}. \\tag{b}\n",
    "$$"
   ]
  },
  {
   "cell_type": "markdown",
   "metadata": {},
   "source": [
    "##### Computing Term 1:\n",
    "We're using the mean squared error, so we have\n",
    "$$\n",
    "    E=\\frac{1}{2}\\sum_{j=0}^{n-1} (a_{j}^{(L)}-y_j)^2.\n",
    "$$\n",
    "Calculating the derivative of $E$ with respect to $a_1^{(L)}$,\n",
    "$$\n",
    "    \\begin{align}\n",
    "    \\frac{\\partial E}{\\partial a_1^{(L)}}&=\\frac{\\partial}{\\partial a_1^{(L)}} \\Bigg(\\frac{1}{2}\\sum_{j=0}^{n-1} (a_{j}^{(L)}-y_j)^2 \\Bigg),\\\\\n",
    "    &= \\frac{\\partial}{\\partial a_1^{(L)}} \\Bigg(\\frac{1}{2} \\Big( (a_{0}^{(L)}-y_0)^2 + (a_{1}^{(L)}-y_1)^2 + \\ldots + (a_{n-1}^{(L)}-y_{n-1})^2 \\Big) \\Bigg), \\\\\n",
    "    &= \\frac{\\partial}{\\partial a_1^{(L)}} \\Bigg(\\frac{1}{2} \\Big( a_{1}^{(L)}-y_1 \\Big)^2  \\Bigg), \\\\\n",
    "    &= a_{1}^{(L)}-y_1. \\\\\n",
    "    \\end{align}\n",
    "$$"
   ]
  },
  {
   "cell_type": "markdown",
   "metadata": {},
   "source": [
    "##### Computing Term 2:\n",
    "The activation function is given by\n",
    "$$\n",
    "    a_{1}^{(L)} = g^{(L)}\\big(z_1^{(L)}\\big),\n",
    "$$\n",
    "where $g$ is a differentiable function like $\\texttt{sigmoid}$ or $\\texttt{tanh}$. \n",
    "The derivative of $a_{1}^{(L)}$ with respect to the weighted sum $z_1^{(L)}$ is \n",
    "$$\n",
    "    \\frac{\\partial a_{1}^{(L)}}{\\partial z_1^{(L)}} = g'^{(L)}\\big( z_1^{(L)} \\big).\n",
    "$$\n",
    "\n"
   ]
  },
  {
   "cell_type": "markdown",
   "metadata": {},
   "source": [
    "##### Computing Term 3:"
   ]
  },
  {
   "cell_type": "markdown",
   "metadata": {},
   "source": [
    "The weighted sum $z_1^{(L)}$ is given by:\n",
    "$$\n",
    "    z_1^{(L)} = (w_{10}^{(L)}\\cdot a_{0}^{(L-1)}) + (w_{11}^{(L)}\\cdot a_{1}^{(L-1)}) + (w_{12}^{(L)}\\cdot a_{2}^{(L-1)}) + \\ldots + (w_{1,n-1}^{(L)}\\cdot a_{n-1}^{(L-1)}).\n",
    "$$"
   ]
  },
  {
   "cell_type": "markdown",
   "metadata": {},
   "source": [
    "The derivative of the weighted sum $z_1^{(L)}$ with respect to *one specific weight* $w_{12}^{(L)}$ is given by:\n",
    "$$\n",
    "    \\frac{\\partial z_{1}^{(L)}}{\\partial w_{12}^{(L)}} = a_{2}^{(L-1)},\n",
    "$$\n",
    "which is just the output activation value of node $2$ in layer $L-1$. "
   ]
  },
  {
   "cell_type": "markdown",
   "metadata": {},
   "source": [
    "#### Putting it all back together:\n",
    "Substituting all the computed terms back into $(b)$, we have:\n",
    "$$\n",
    "    \\frac{\\partial E}{\\partial w_{12}^{(L)}} = \\underbrace{(a_{1}^{(L)}-y_1)}_{\\text{term 1}} \\cdot\n",
    "                                               \\underbrace{(g'^{(L)}\\big( z_1^{(L)}\\big))}_{\\text{term 2}} \\cdot\n",
    "                                               \\underbrace{(a_{2}^{(L-1)})}_{\\text{term 3}}. \\tag{c}\n",
    "$$\n"
   ]
  },
  {
   "cell_type": "markdown",
   "metadata": {},
   "source": [
    "So now if we want to apply gradient descent on weight $w_{12}^{(L)}$, we just need to evaluate $(c)$ and run the line of code:\n",
    "$$\n",
    "    w_{12}^{(L)} := w_{12}^{(L)}-\\eta \\frac{\\partial E}{\\partial w_{12}^{(L)}}.\n",
    "$$"
   ]
  },
  {
   "cell_type": "markdown",
   "metadata": {},
   "source": [
    "#### Generalising for any weight in the network:"
   ]
  },
  {
   "cell_type": "markdown",
   "metadata": {},
   "source": [
    "We can compute the derivative weight $w_{12}^{(L)}$ using $(c)$, but we need the gradient of $E$ with respect to all weights $w_{jk}^{(l)}$ for all layers $l$ to train the whole network."
   ]
  },
  {
   "cell_type": "markdown",
   "metadata": {},
   "source": [
    "<img src=\"images/backprop-network-template-w22.png\" width=\"50%\">\n"
   ]
  },
  {
   "cell_type": "markdown",
   "metadata": {},
   "source": [
    "Suppose now we want to get the derivative of the error function with respect to a specific weight $w_{22}$:\n",
    "$$\n",
    "    \\frac{\\partial E}{\\partial w_{22}} = \\underbrace{\\frac{\\partial E}{\\partial a_{2}^{(L-1)}}}_{\\text{term 1}} \\cdot\n",
    "                                               \\underbrace{\\frac{\\partial a_{2}^{(L-1)}}{\\partial z_{2}^{(L-1)}}}_{\\text{term 2}} \\cdot\n",
    "                                               \\underbrace{\\frac{\\partial z_{2}^{(L-1)}}{\\partial w_{22}^{(L-1)}}}_{\\text{term 3}}, \\tag{d}\n",
    "$$ \n",
    "which is very similar to equation $(b)$ which was used to calculate the derivative $\\frac{\\partial E}{\\partial w_{12}^{(L)}}$."
   ]
  },
  {
   "cell_type": "markdown",
   "metadata": {},
   "source": [
    "Computing terms $2$ and $3$ are done exactly the same as for $\\frac{\\partial E}{\\partial w_{12}^{(L)}}$. The problem is determining term $1$, since "
   ]
  },
  {
   "cell_type": "markdown",
   "metadata": {},
   "source": [
    "##### Computing Term 1:\n",
    "The term $\\frac{\\partial E}{\\partial a_{2}^{(L-1)}}$ measures how much the error function changes when you make a small change to the activation of node $2$ in layer $L-1$. The value of this is\n",
    "$$\n",
    "    \\begin{align}\n",
    "    \\frac{\\partial E}{\\partial a_{2}^{(L-1)}} &= \\sum_{i=0}^{n-1} \\Big( \\frac{\\partial E}{\\partial a_j^{(L)}} \\cdot \\frac{\\partial a_j^{(L)}}{\\partial z_j^{(L)}} \\cdot \\frac{\\partial z_j^{(L)}}{\\partial a_2^{(L-1)}}\\Big) \\\\\n",
    "    &= \\sum_{i=0}^{n-1} \\Big( (a_j^{(L)} - y_j) \\cdot (g'^{(L)}) \\cdot (w_{j2}^{(L)}) \\Big)\n",
    "    \\end{align}\n",
    "$$"
   ]
  },
  {
   "cell_type": "markdown",
   "metadata": {},
   "source": [
    "<img src=\"images/backprop-network-template-w22-term1-third-derivative.png\" width=\"50%\">\n"
   ]
  },
  {
   "cell_type": "markdown",
   "metadata": {},
   "source": [
    "Now, the derivative $\\frac{\\partial E}{\\partial w_{22}}$ is given as:\n",
    "$$\n",
    "    \\begin{align}\n",
    "    \\frac{\\partial E}{\\partial w_{22}} &= \\sum_{i=0}^{n-1} \\Big( \\underbrace{\\frac{\\partial E}{\\partial a_j^{(L)}} \\cdot \\frac{\\partial a_j^{(L)}}{\\partial z_j^{(L)}}}_{\\text{Passed back from the layer L}} \\cdot \\frac{\\partial z_j^{(L)}}{\\partial a_2^{(L-1)}}\\Big) \\cdot \\underbrace{\\frac{\\partial a_{2}^{(L-1)}}{\\partial z_{2}^{(L-1)}}}_{\\text{term 2}} \\cdot\n",
    "                                               \\underbrace{\\frac{\\partial z_{2}^{(L-1)}}{\\partial w_{22}^{(L-1)}}}_{\\text{term 3}} \\\\\n",
    "    &= \\sum_{i=0}^{n-1} \\Big( \\underbrace{(a_j^{(L)} - y_j) \\cdot (g'^{(L)})}_{\\text{Passed back from the layer L}} \\cdot (w_{j2}^{(L)}) \\Big) \\cdot\n",
    "                                               \\underbrace{\\frac{\\partial a_{2}^{(L-1)}}{\\partial z_{2}^{(L-1)}}}_{\\text{term 2}} \\cdot\n",
    "                                               \\underbrace{\\frac{\\partial z_{2}^{(L-1)}}{\\partial w_{22}^{(L-1)}}}_{\\text{term 3}}, \\tag{d}\n",
    "    \\end{align}\n",
    "$$"
   ]
  },
  {
   "cell_type": "markdown",
   "metadata": {},
   "source": [
    "Calculating the derivative of the error with respect to any weight going towards node $j$ in any layer $l$ depends on the value $\\frac{\\partial E}{\\partial a_j^{(l+1)}} \\cdot \\frac{\\partial a_j^{(l+1)}}{\\partial z_j^{(l+1)}}$ calculated from the layer in front. "
   ]
  },
  {
   "cell_type": "markdown",
   "metadata": {},
   "source": [
    "<hr>"
   ]
  },
  {
   "cell_type": "markdown",
   "metadata": {},
   "source": [
    "### Resources:\n",
    "- <a href=\"https://towardsdatascience.com/the-heart-of-artificial-neural-networks-26627e8c03ba\">The Math Behind Artificial Neural Networks</a>\n",
    "- <a href=\"https://www.youtube.com/watch?v=XE3krf3CQls&t=496s&ab_channel=deeplizard\">Backpropagation Video Derivation Series</a>\n",
    "- <a href=\"https://towardsdatascience.com/epoch-vs-iterations-vs-batch-size-4dfb9c7ce9c9\">Epochs, Iterations, Batch Size</a>\n"
   ]
  }
 ],
 "metadata": {
  "kernelspec": {
   "display_name": "Python 3",
   "language": "python",
   "name": "python3"
  },
  "language_info": {
   "codemirror_mode": {
    "name": "ipython",
    "version": 3
   },
   "file_extension": ".py",
   "mimetype": "text/x-python",
   "name": "python",
   "nbconvert_exporter": "python",
   "pygments_lexer": "ipython3",
   "version": "3.8.3"
  }
 },
 "nbformat": 4,
 "nbformat_minor": 4
}
