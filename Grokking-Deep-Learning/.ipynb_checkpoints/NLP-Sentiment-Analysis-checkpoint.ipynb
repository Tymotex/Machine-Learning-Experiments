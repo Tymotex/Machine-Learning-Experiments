{
 "cells": [
  {
   "cell_type": "markdown",
   "metadata": {},
   "source": [
    "### Natural Language Processing:\n",
    "It is necessary to translate the input text into matrices that can be fed into a neural network and receive a numerical prediction.\n",
    "\n",
    "The way we format the input text as a matrix will make it easier or harder for the neural network to learn correlation.\n",
    "\n",
    "### Sentiment Analysis:\n",
    "<em>One-hot encoding</em> involves using binary numbers 0 and 1 to encode the presence/absence of something or truth/false. For sentiment analysis, an appropriate way to translate input text into vectors would be to have a column for each word in a vocabulary set, where if the current review contains a certain word, the column would be marked with a 1.\n"
   ]
  },
  {
   "cell_type": "code",
   "execution_count": 2,
   "metadata": {},
   "outputs": [],
   "source": [
    "import sys\n",
    "\n",
    "f = open('reviews.txt')\n",
    "raw_reviews = f.readlines()\n",
    "f.close()\n",
    "\n",
    "f = open('reviews-labels.txt')\n",
    "raw_labels = f.readlines()\n",
    "f.close()\n",
    "\n",
    "tokens = list(map(lambda x:set(x.split(\" \")),raw_reviews))\n",
    "\n",
    "vocab = set()\n",
    "for sent in tokens:\n",
    "    for word in sent:\n",
    "        if(len(word)>0):\n",
    "            vocab.add(word)\n",
    "vocab = list(vocab)\n",
    "\n",
    "word2index = {}\n",
    "for i,word in enumerate(vocab):\n",
    "    word2index[word]=i\n",
    "\n",
    "input_dataset = list()\n",
    "for sent in tokens:\n",
    "    sent_indices = list()\n",
    "    for word in sent:\n",
    "        try:\n",
    "            sent_indices.append(word2index[word])\n",
    "        except:\n",
    "            \"\"\n",
    "    input_dataset.append(list(set(sent_indices)))\n",
    "\n",
    "target_dataset = list()\n",
    "for label in raw_labels:\n",
    "    if label == 'positive\\n':\n",
    "        target_dataset.append(1)\n",
    "    else:\n",
    "        target_dataset.append(0)\n"
   ]
  },
  {
   "cell_type": "code",
   "execution_count": 13,
   "metadata": {},
   "outputs": [
    {
     "name": "stdout",
     "output_type": "stream",
     "text": [
      "[4620, 12306, 18963, 10265, 20000, 20005, 6694, 28714, 27691, 17472, 17475, 27720, 24654, 22608, 34896, 32344, 6255, 1664, 11909, 11398, 19080, 31883, 31371, 10894, 18063, 22671, 14481, 8345, 3742, 2207, 6816, 9376, 33959, 20647, 7343, 29361, 19636, 31422, 3265, 18628, 31446, 23768, 3289, 9944, 9947, 6879, 13026, 17132, 23800, 5884, 33036, 34574, 16146, 33043, 10518, 17182, 13100, 28472, 32062, 13119, 1858, 27485, 14176, 12136, 12650, 30577, 25969, 14719, 8064, 11661, 8084, 19869, 8608, 15265, 26541, 18350, 26542, 22451, 23990, 34238, 16831, 22974, 451, 24007, 28104, 5586, 27091, 1494, 18906, 21467, 9714, 27125, 16892]\n",
      "HERE\n",
      "93\n",
      "(35752, 100)\n",
      "(93, 100)\n"
     ]
    }
   ],
   "source": [
    "import numpy as np\n",
    "np.random.seed(1)\n",
    "\n",
    "def sigmoid(x):\n",
    "    return 1 / (1 + np.exp(-x))\n",
    "\n",
    "alpha, iterations = (0.01, 2)\n",
    "hidden_size = 100\n",
    "\n",
    "weights_0_1 = 0.2 * np.random.random((len(vocab), hidden_size)) - 0.1\n",
    "weights_1_2 = 0.2 * np.random.random((hidden_size, 1)) - 0.1\n",
    "\n",
    "correct, total = (0, 0)\n",
    "for iteration in range(iterations):\n",
    "    for i in range(len(input_dataset) - 1000):    # Leave 1000 datapoints for the testing\n",
    "        x, y = (input_dataset[i], target_dataset[i])\n",
    "        print(x)\n",
    "        print(\"HERE\")\n",
    "        print(len(x))\n",
    "        print(weights_0_1.shape)\n",
    "        print(weights_0_1[1].shape)\n",
    "        break\n",
    "    break\n",
    "#         layer_1 = sigmoid(np.dot(x, weights_0_1))\n",
    "        \n",
    "        \n",
    "\n"
   ]
  }
 ],
 "metadata": {
  "kernelspec": {
   "display_name": "Python 3",
   "language": "python",
   "name": "python3"
  },
  "language_info": {
   "codemirror_mode": {
    "name": "ipython",
    "version": 3
   },
   "file_extension": ".py",
   "mimetype": "text/x-python",
   "name": "python",
   "nbconvert_exporter": "python",
   "pygments_lexer": "ipython3",
   "version": "3.7.6"
  }
 },
 "nbformat": 4,
 "nbformat_minor": 4
}
