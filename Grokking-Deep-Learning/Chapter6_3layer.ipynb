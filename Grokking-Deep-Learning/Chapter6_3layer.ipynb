{
 "cells": [
  {
   "cell_type": "markdown",
   "metadata": {},
   "source": [
    "# Implementing the following 3-layer network\n",
    "![title](img/chap6_3layer.png)"
   ]
  },
  {
   "cell_type": "code",
   "execution_count": 2,
   "metadata": {},
   "outputs": [
    {
     "name": "stdout",
     "output_type": "stream",
     "text": [
      "Weights from 0 to 1:\n",
      "[[ 0.49762021 -0.83559291  0.15844297  0.06489488]\n",
      " [ 0.45836711  0.780598    0.81965766  0.04149217]\n",
      " [-0.72932099  0.04604929 -0.73109746  0.17238014]]\n",
      "Weights from 1 to 2:\n",
      "[[ 0.03471422]\n",
      " [ 0.89945896]\n",
      " [ 0.12471945]\n",
      " [-0.0187963 ]]\n",
      "Layer 1's 4 node values are:\n",
      "[-0.         -0.         -0.          0.23727502]\n",
      "Layer 2's output is:\n",
      "[-0.00445989]\n"
     ]
    }
   ],
   "source": [
    "import numpy as np\n",
    "\n",
    "# np.random.seed(1)\n",
    "\n",
    "def relu(x):\n",
    "    return (x > 0) * x\n",
    "\n",
    "alpha = 0.2\n",
    "hidden_size = 4\n",
    "\n",
    "streetlights = np.array([[1, 0, 1],\n",
    "                         [0, 1, 1],\n",
    "                         [0, 0, 1],\n",
    "                         [1, 1, 1]])\n",
    "\n",
    "walk_vs_stop = np.array([[1, 1, 0, 0]]).T\n",
    "\n",
    "# Generate weights in a 3x4 matrix\n",
    "weights_0_1 = 2 * np.random.random((3, hidden_size)) - 1\n",
    "# Generate weights in a 4x1 matrix\n",
    "weights_1_2 = 2 * np.random.random((hidden_size, 1)) - 1\n",
    "\n",
    "print(\"Weights from 0 to 1:\")\n",
    "print(weights_0_1)\n",
    "print(\"Weights from 1 to 2:\")\n",
    "print(weights_1_2)\n",
    "\n",
    "layer_0 = streetlights[0]\n",
    "layer_1 = relu(np.dot(layer_0, weights_0_1))\n",
    "\n",
    "\n",
    "print(\"Layer 1's 4 node values are:\")\n",
    "print(layer_1)\n",
    "\n",
    "layer_2 = np.dot(layer_1, weights_1_2)\n",
    "print(\"Layer 2's output is:\")\n",
    "print(layer_2)\n"
   ]
  },
  {
   "cell_type": "markdown",
   "metadata": {},
   "source": [
    "### Now, using backpropagation:"
   ]
  },
  {
   "cell_type": "code",
   "execution_count": 17,
   "metadata": {},
   "outputs": [
    {
     "name": "stdout",
     "output_type": "stream",
     "text": [
      "Error:1.3797040567116843\n",
      "Error:3.15163841340275e+266\n",
      "Error:nan\n",
      "Error:nan\n",
      "Error:nan\n",
      "Error:nan\n"
     ]
    },
    {
     "name": "stderr",
     "output_type": "stream",
     "text": [
      "/home/tim/anaconda3/lib/python3.7/site-packages/ipykernel_launcher.py:6: RuntimeWarning: invalid value encountered in greater\n",
      "  \n",
      "/home/tim/anaconda3/lib/python3.7/site-packages/ipykernel_launcher.py:12: RuntimeWarning: invalid value encountered in greater\n",
      "  if sys.path[0] == '':\n"
     ]
    }
   ],
   "source": [
    "import numpy as np\n",
    "\n",
    "np.random.seed(1)\n",
    "\n",
    "def relu(x):\n",
    "    return (x > 0) * x\n",
    "\n",
    "# Derivative of the relu function\n",
    "# Outputs: 1 if positive, or 0 if negative\n",
    "# 1 is the slope of the relu function for positive inputs, 0 is the slope for negative inputs into relu\n",
    "def reluDerivative(x):\n",
    "    return x > 0\n",
    "\n",
    "alpha = 0.2\n",
    "hidden_size = 4\n",
    "\n",
    "streetlights = np.array([[1, 0, 1],\n",
    "                         [0, 1, 1],\n",
    "                         [0, 0, 1],\n",
    "                         [1, 1, 1]])\n",
    "\n",
    "walk_vs_stop = np.array([[1, 1, 0, 0]]).T\n",
    "\n",
    "weights_0_1 = 2 * np.random.random((3, hidden_size)) - 1\n",
    "weights_1_2 = 2 * np.random.random((hidden_size, 1)) - 1\n",
    "\n",
    "for iteration in range(60):\n",
    "    layer_2_error = 0\n",
    "    for i in range(len(streetlights)):\n",
    "        layer_0 = streetlights[i : i + 1]\n",
    "        layer_1 = relu(np.dot(layer_0, weights_0_1))\n",
    "        # layer_2 is just the single output layer node\n",
    "        layer_2 = np.dot(layer_1, weights_1_2)\n",
    "        layer_2 = np.dot(layer_1, weights_1_2)\n",
    "        # Mean squared error of layer 2\n",
    "        layer_2_error += np.sum((layer_2 - walk_vs_stop[i:i+1]) ** 2)\n",
    "        layer_2_delta = walk_vs_stop[i : i + 1] - layer_2_error\n",
    "        # Determine layer_1's deltas (one for each of the 4 nodes in layer 1)\n",
    "        layer_1_delta = layer_2_delta.dot(weights_1_2.T) * reluDerivative(layer_1)\n",
    "        # Adjusting the weights of layer1 -> layer2 and layer0 -> layer1\n",
    "        weights_1_2 += alpha * layer_1.T.dot(layer_2_delta)\n",
    "        weights_0_1 += alpha * layer_0.T.dot(layer_1_delta)\n",
    "\n",
    "    if(iteration % 10 == 9):\n",
    "        print(\"Error:\" + str(layer_2_error))"
   ]
  },
  {
   "cell_type": "code",
   "execution_count": null,
   "metadata": {},
   "outputs": [],
   "source": []
  }
 ],
 "metadata": {
  "kernelspec": {
   "display_name": "Python 3",
   "language": "python",
   "name": "python3"
  },
  "language_info": {
   "codemirror_mode": {
    "name": "ipython",
    "version": 3
   },
   "file_extension": ".py",
   "mimetype": "text/x-python",
   "name": "python",
   "nbconvert_exporter": "python",
   "pygments_lexer": "ipython3",
   "version": "3.7.6"
  }
 },
 "nbformat": 4,
 "nbformat_minor": 4
}
