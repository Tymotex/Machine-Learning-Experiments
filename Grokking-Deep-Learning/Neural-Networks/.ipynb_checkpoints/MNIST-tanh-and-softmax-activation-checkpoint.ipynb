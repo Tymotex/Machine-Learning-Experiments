{
 "cells": [
  {
   "cell_type": "markdown",
   "metadata": {},
   "source": [
    "### Improved MNIST Digit Classifier:\n",
    "The following 3-layer MNIST network with 100 nodes in the hidden layer uses $\\texttt{tanh}$ as the activation function for the hidden layer and softmax as the activation function for the output layer. It also applies batch gradient descent &mdash; updating weights after a batch of datapoints are trained on &mdash; and dropout regularisation &mdash; randomly switching off nodes to train subsections of the neural network (to combat overfitting).\n",
    "\n",
    "This network omits the error function."
   ]
  },
  {
   "cell_type": "code",
   "execution_count": 23,
   "metadata": {},
   "outputs": [
    {
     "name": "stdout",
     "output_type": "stream",
     "text": [
      "\n",
      "I:0 Test-Acc:0.394 Train-Acc:0.156\n",
      "I:10 Test-Acc:0.6867 Train-Acc:0.723\n",
      "I:20 Test-Acc:0.7025 Train-Acc:0.732\n",
      "I:30 Test-Acc:0.734 Train-Acc:0.763"
     ]
    },
    {
     "ename": "KeyboardInterrupt",
     "evalue": "",
     "output_type": "error",
     "traceback": [
      "\u001b[0;31m---------------------------------------------------------------------------\u001b[0m",
      "\u001b[0;31mKeyboardInterrupt\u001b[0m                         Traceback (most recent call last)",
      "\u001b[0;32m<ipython-input-23-95135d006ee4>\u001b[0m in \u001b[0;36m<module>\u001b[0;34m\u001b[0m\n\u001b[1;32m     78\u001b[0m     \u001b[0;32mfor\u001b[0m \u001b[0mi\u001b[0m \u001b[0;32min\u001b[0m \u001b[0mrange\u001b[0m\u001b[0;34m(\u001b[0m\u001b[0mlen\u001b[0m\u001b[0;34m(\u001b[0m\u001b[0mtest_images\u001b[0m\u001b[0;34m)\u001b[0m\u001b[0;34m)\u001b[0m\u001b[0;34m:\u001b[0m\u001b[0;34m\u001b[0m\u001b[0;34m\u001b[0m\u001b[0m\n\u001b[1;32m     79\u001b[0m         \u001b[0mlayer_0\u001b[0m \u001b[0;34m=\u001b[0m \u001b[0mtest_images\u001b[0m\u001b[0;34m[\u001b[0m\u001b[0mi\u001b[0m \u001b[0;34m:\u001b[0m \u001b[0mi\u001b[0m \u001b[0;34m+\u001b[0m \u001b[0;36m1\u001b[0m\u001b[0;34m]\u001b[0m\u001b[0;34m\u001b[0m\u001b[0;34m\u001b[0m\u001b[0m\n\u001b[0;32m---> 80\u001b[0;31m         \u001b[0mlayer_1\u001b[0m \u001b[0;34m=\u001b[0m \u001b[0mtanh\u001b[0m\u001b[0;34m(\u001b[0m\u001b[0mnp\u001b[0m\u001b[0;34m.\u001b[0m\u001b[0mdot\u001b[0m\u001b[0;34m(\u001b[0m\u001b[0mlayer_0\u001b[0m\u001b[0;34m,\u001b[0m \u001b[0mweights_0_1\u001b[0m\u001b[0;34m)\u001b[0m\u001b[0;34m)\u001b[0m\u001b[0;34m\u001b[0m\u001b[0;34m\u001b[0m\u001b[0m\n\u001b[0m\u001b[1;32m     81\u001b[0m         \u001b[0mlayer_2\u001b[0m \u001b[0;34m=\u001b[0m \u001b[0msoftmax\u001b[0m\u001b[0;34m(\u001b[0m\u001b[0mnp\u001b[0m\u001b[0;34m.\u001b[0m\u001b[0mdot\u001b[0m\u001b[0;34m(\u001b[0m\u001b[0mlayer_1\u001b[0m\u001b[0;34m,\u001b[0m \u001b[0mweights_1_2\u001b[0m\u001b[0;34m)\u001b[0m\u001b[0;34m)\u001b[0m\u001b[0;34m\u001b[0m\u001b[0;34m\u001b[0m\u001b[0m\n\u001b[1;32m     82\u001b[0m         \u001b[0mtest_correct_count\u001b[0m \u001b[0;34m+=\u001b[0m \u001b[0mint\u001b[0m\u001b[0;34m(\u001b[0m\u001b[0mnp\u001b[0m\u001b[0;34m.\u001b[0m\u001b[0margmax\u001b[0m\u001b[0;34m(\u001b[0m\u001b[0mlayer_2\u001b[0m\u001b[0;34m)\u001b[0m \u001b[0;34m==\u001b[0m \u001b[0mnp\u001b[0m\u001b[0;34m.\u001b[0m\u001b[0margmax\u001b[0m\u001b[0;34m(\u001b[0m\u001b[0mtest_labels\u001b[0m\u001b[0;34m[\u001b[0m\u001b[0mi\u001b[0m \u001b[0;34m:\u001b[0m \u001b[0mi\u001b[0m \u001b[0;34m+\u001b[0m \u001b[0;36m1\u001b[0m\u001b[0;34m]\u001b[0m\u001b[0;34m)\u001b[0m\u001b[0;34m)\u001b[0m\u001b[0;34m\u001b[0m\u001b[0;34m\u001b[0m\u001b[0m\n",
      "\u001b[0;32m<__array_function__ internals>\u001b[0m in \u001b[0;36mdot\u001b[0;34m(*args, **kwargs)\u001b[0m\n",
      "\u001b[0;31mKeyboardInterrupt\u001b[0m: "
     ]
    }
   ],
   "source": [
    "import sys\n",
    "import numpy as np\n",
    "from keras.datasets import mnist\n",
    "\n",
    "(x_train, y_train), (x_test, y_test) = mnist.load_data()\n",
    "\n",
    "# Reshaping the training images (28x28 pixels) into a 1D array, then scaling down all the pixel values \n",
    "# from 0-255 to 0-1\n",
    "images, labels = (x_train[0 : 1000].reshape(1000, 28 * 28) / 255, y_train[0 : 1000])\n",
    "test_images = x_test.reshape(len(x_test), 28 * 28) / 255\n",
    "\n",
    "# Formatting the training and testing labels matrices\n",
    "one_hot_labels = np.zeros((len(labels), 10))\n",
    "for i, eachLabel in enumerate(labels):\n",
    "    # Marking which output is 'hot'\n",
    "    one_hot_labels[i][eachLabel] = 1\n",
    "labels = one_hot_labels\n",
    "\n",
    "test_labels = np.zeros((len(y_test), 10))\n",
    "for i, eachLabel in enumerate(y_test):\n",
    "    test_labels[i][eachLabel] = 1\n",
    "\n",
    "# Initialising the randomised weights\n",
    "# Note that tanh works better on randomised weights in a narrower range. Here we'll scale the weight values\n",
    "# from [0, 1] to the narrower range [-0.01, 0.01] for weights_0_1\n",
    "np.random.seed(1)\n",
    "weights_0_1 = 0.02 * np.random.random((pixels_per_image, hidden_size)) - 0.01 \n",
    "\n",
    "# Range [-0.1, 0.1] for the second weight matrix\n",
    "weights_1_2 = 0.2 * np.random.random((hidden_size, num_labels)) - 0.1\n",
    "\n",
    "# Activation functions: \n",
    "def tanh(x):\n",
    "    return np.tanh(x)\n",
    "\n",
    "def tanh2derivative(x):\n",
    "    return 1 - (x ** 2)\n",
    "    \n",
    "def tanh2deriv(x):\n",
    "    return 1 - (x ** 2)\n",
    "\n",
    "def softmax(x):\n",
    "    tmp = np.exp(x)\n",
    "    return tmp / np.sum(tmp, axis=1, keepdims=True)\n",
    "\n",
    "# Parameters\n",
    "alpha = 2\n",
    "iterations = 300\n",
    "hidden_size = 100\n",
    "pixels_per_image, num_labels = (784, 10)\n",
    "batch_size = 100\n",
    "\n",
    "for iteration in range(iterations):\n",
    "    correct_count = 0\n",
    "    # Looping through 10 batches of 100 images\n",
    "    for i in range(int(len(images) / batch_size)):\n",
    "        batch_start, batch_end = ((i * batch_size),((i+1)*batch_size))\n",
    "        curr_batch = images[batch_start : batch_end]\n",
    "        layer_0 = curr_batch\n",
    "        layer_1 = tanh(np.dot(layer_0, weights_0_1))\n",
    "        dropout_mask = np.random.randint(2, size=layer_1.shape)\n",
    "        layer_1 *= dropout_mask * 2\n",
    "        layer_2 = softmax(np.dot(layer_1, weights_1_2))\n",
    "        \n",
    "        for j in range(batch_size):\n",
    "            correct_count += int(np.argmax(layer_2[j:j+1]) == np.argmax(labels[batch_start+j:batch_start+j+1]))\n",
    "        layer_2_delta = (labels[batch_start:batch_end]-layer_2) / (batch_size * layer_2.shape[0])\n",
    "        layer_1_delta = layer_2_delta.dot(weights_1_2.T) * tanh2deriv(layer_1)\n",
    "        # Apply the dropout_mask on the backpropagated deltas.\n",
    "        # We don't want to attribute error to nodes that were switched off in forward propagation!\n",
    "        layer_1_delta *= dropout_mask\n",
    "        \n",
    "        # Updating the weights after each batch completes:\n",
    "        weights_1_2 += alpha * layer_1.T.dot(layer_2_delta)\n",
    "        weights_0_1 += alpha * layer_0.T.dot(layer_1_delta)\n",
    "    \n",
    "    test_correct_count = 0\n",
    "    for i in range(len(test_images)):\n",
    "        layer_0 = test_images[i : i + 1]\n",
    "        layer_1 = tanh(np.dot(layer_0, weights_0_1))\n",
    "        layer_2 = softmax(np.dot(layer_1, weights_1_2))\n",
    "        test_correct_count += int(np.argmax(layer_2) == np.argmax(test_labels[i : i + 1]))\n",
    "    \n",
    "    if (iteration % 10 == 0):\n",
    "        sys.stdout.write(\"\\n\"+ \"I:\" + str(iteration) + \\\n",
    "                         \" Test-Acc:\"+str(test_correct_count / float(len(test_images)))+\\\n",
    "                         \" Train-Acc:\" + str(correct_count / float(len(images))))\n"
   ]
  },
  {
   "cell_type": "code",
   "execution_count": null,
   "metadata": {},
   "outputs": [],
   "source": []
  }
 ],
 "metadata": {
  "kernelspec": {
   "display_name": "Python 3",
   "language": "python",
   "name": "python3"
  },
  "language_info": {
   "codemirror_mode": {
    "name": "ipython",
    "version": 3
   },
   "file_extension": ".py",
   "mimetype": "text/x-python",
   "name": "python",
   "nbconvert_exporter": "python",
   "pygments_lexer": "ipython3",
   "version": "3.7.6"
  }
 },
 "nbformat": 4,
 "nbformat_minor": 4
}
