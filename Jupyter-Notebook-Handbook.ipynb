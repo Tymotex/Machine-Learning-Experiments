{
 "cells": [
  {
   "cell_type": "markdown",
   "metadata": {},
   "source": [
    "Shortcuts in both modes:\n",
    "- Shift + Enter run the current cell, select below\n",
    "- Ctrl + Enter run selected cells\n",
    "- Alt + Enter run the current cell, insert below\n",
    "- Ctrl + S save and checkpoint\n",
    "\n",
    "While in command mode (press Esc to activate):\n",
    "- Enter take you into edit mode\n",
    "- H - show all shortcuts\n",
    "- Up select cell above\n",
    "- Down select cell below\n",
    "- Shift + Up extend selected cells above\n",
    "- Shift + Down extend selected cells below\n",
    "- A insert cell above\n",
    "- B insert cell below\n",
    "- X cut selected cells\n",
    "- C copy selected cells\n",
    "- V paste cells below\n",
    "- Shift + V paste cells above\n",
    "- D, D (press the key twice) delete selected cells\n",
    "- Z undo cell deletion\n",
    "- S Save and Checkpoint\n",
    "- Y change the cell type to Code\n",
    "- M change the cell type to Markdown"
   ]
  }
 ],
 "metadata": {
  "kernelspec": {
   "display_name": "Python 3",
   "language": "python",
   "name": "python3"
  },
  "language_info": {
   "codemirror_mode": {
    "name": "ipython",
    "version": 3
   },
   "file_extension": ".py",
   "mimetype": "text/x-python",
   "name": "python",
   "nbconvert_exporter": "python",
   "pygments_lexer": "ipython3",
   "version": "3.8.3"
  }
 },
 "nbformat": 4,
 "nbformat_minor": 4
}
