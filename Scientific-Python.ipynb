{
 "cells": [
  {
   "cell_type": "markdown",
   "metadata": {},
   "source": [
    "# Python Semantics:\n",
    "A collection of lesser known Python features."
   ]
  },
  {
   "cell_type": "markdown",
   "metadata": {},
   "source": [
    "### List Slicing:\n",
    "Useful for extracting sublists from a list."
   ]
  },
  {
   "cell_type": "code",
   "execution_count": null,
   "metadata": {},
   "outputs": [],
   "source": [
    "a[start:stop]  # [start, stop)  -  inclusive start index, exclusive stop index\n",
    "a[start:]      # [start, ...]   -  inclusive start index to the end of the list\n",
    "a[:stop]       # [..., stop)    -  from the start of the list to the exclusive stop index\n",
    "a[:]           # a copy of the whole array\n",
    "\n",
    "a[start:stop:step]  # Optionally specify a step between elements to slice out"
   ]
  },
  {
   "cell_type": "markdown",
   "metadata": {},
   "source": [
    "#### Negative Indices:"
   ]
  },
  {
   "cell_type": "code",
   "execution_count": null,
   "metadata": {},
   "outputs": [],
   "source": [
    "a[-1]    # Last item\n",
    "a[-2:]   # Last two items \n",
    "a[:-2]   # Everything but the last two items\n",
    "\n",
    "a[::-1]  # Reversed list (a hacky alternative to the reverse() method)\n",
    "\n"
   ]
  },
  {
   "cell_type": "markdown",
   "metadata": {},
   "source": [
    "#### Extracting a column (not vanilla Python):"
   ]
  },
  {
   "cell_type": "code",
   "execution_count": null,
   "metadata": {},
   "outputs": [],
   "source": [
    "# Suppose we have this numpy array:\n",
    "array([[11, 12, 13, 14],\n",
    "       [21, 22, 23, 24],\n",
    "       [31, 32, 33, 34],\n",
    "       [41, 42, 43, 44],\n",
    "       [51, 52, 53, 54],\n",
    "       [61, 62, 63, 64],\n",
    "       [71, 72, 73, 74],\n",
    "       [81, 82, 83, 84],\n",
    "       [91, 92, 93, 94]])\n",
    "\n",
    "\n",
    "m[:,0]    # Gets us column 0: array([11, 21, 31, 41, 51, 61, 71, 81, 91])\n"
   ]
  },
  {
   "cell_type": "markdown",
   "metadata": {},
   "source": [
    "In general, $\\texttt{m[:,n]}$ slices out the $n^{th}$ column vector of the matrix $m$."
   ]
  },
  {
   "cell_type": "markdown",
   "metadata": {},
   "source": [
    "Note: commas within the brackets $\\texttt{[ ]}$ are not part of vanilla Python syntax. Packages like numpy or pytorch implement the behaviour of the comma for their \\_\\_getitem\\_\\_ function "
   ]
  },
  {
   "cell_type": "code",
   "execution_count": null,
   "metadata": {},
   "outputs": [],
   "source": []
  },
  {
   "cell_type": "code",
   "execution_count": null,
   "metadata": {},
   "outputs": [],
   "source": []
  },
  {
   "cell_type": "code",
   "execution_count": null,
   "metadata": {},
   "outputs": [],
   "source": []
  }
 ],
 "metadata": {
  "kernelspec": {
   "display_name": "Python 3",
   "language": "python",
   "name": "python3"
  },
  "language_info": {
   "codemirror_mode": {
    "name": "ipython",
    "version": 3
   },
   "file_extension": ".py",
   "mimetype": "text/x-python",
   "name": "python",
   "nbconvert_exporter": "python",
   "pygments_lexer": "ipython3",
   "version": "3.8.3"
  }
 },
 "nbformat": 4,
 "nbformat_minor": 4
}
